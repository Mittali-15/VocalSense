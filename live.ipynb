{
 "cells": [
  {
   "cell_type": "code",
   "execution_count": 2,
   "metadata": {},
   "outputs": [
    {
     "name": "stderr",
     "output_type": "stream",
     "text": [
      "WARNING: Ignoring invalid distribution ~otebook (C:\\Users\\mitta\\AppData\\Local\\Programs\\Python\\Python312\\Lib\\site-packages)\n",
      "WARNING: Ignoring invalid distribution ~otebook (C:\\Users\\mitta\\AppData\\Local\\Programs\\Python\\Python312\\Lib\\site-packages)\n",
      "WARNING: Ignoring invalid distribution ~otebook (C:\\Users\\mitta\\AppData\\Local\\Programs\\Python\\Python312\\Lib\\site-packages)\n"
     ]
    }
   ],
   "source": [
    "! pip install git+https://github.com/openai/whisper.git -q"
   ]
  },
  {
   "cell_type": "code",
   "execution_count": 3,
   "metadata": {},
   "outputs": [],
   "source": [
    "import whisper\n",
    "\n",
    "model = whisper.load_model(\"base\")"
   ]
  },
  {
   "cell_type": "code",
   "execution_count": 9,
   "metadata": {},
   "outputs": [
    {
     "name": "stderr",
     "output_type": "stream",
     "text": [
      "WARNING: Ignoring invalid distribution ~otebook (C:\\Users\\mitta\\AppData\\Local\\Programs\\Python\\Python312\\Lib\\site-packages)\n",
      "WARNING: Ignoring invalid distribution ~otebook (C:\\Users\\mitta\\AppData\\Local\\Programs\\Python\\Python312\\Lib\\site-packages)\n",
      "WARNING: Ignoring invalid distribution ~otebook (C:\\Users\\mitta\\AppData\\Local\\Programs\\Python\\Python312\\Lib\\site-packages)\n"
     ]
    }
   ],
   "source": [
    "! pip install gradio -q\n"
   ]
  },
  {
   "cell_type": "code",
   "execution_count": 10,
   "metadata": {},
   "outputs": [],
   "source": [
    "import gradio as gr \n",
    "import time"
   ]
  },
  {
   "cell_type": "code",
   "execution_count": 11,
   "metadata": {},
   "outputs": [],
   "source": [
    "def transcribe(audio):\n",
    "    # Load the audio file\n",
    "    audio = whisper.load_audio(audio)\n",
    "    \n",
    "    # Define chunk size (e.g., 30 seconds in samples, assuming 16000 Hz sample rate)\n",
    "    chunk_size = 16000 * 30  # Whisper's sample rate is 16000 Hz\n",
    "    \n",
    "    # Split the audio into chunks\n",
    "    chunks = [audio[i:i + chunk_size] for i in range(0, len(audio), chunk_size)]\n",
    "\n",
    "    # Initialize the result text\n",
    "    full_transcription = \"\"\n",
    "\n",
    "    # Process each chunk\n",
    "    for i, chunk in enumerate(chunks):\n",
    "        # Pad or trim the chunk to the required length\n",
    "        chunk = whisper.pad_or_trim(chunk)\n",
    "\n",
    "        # Generate the log-Mel spectrogram\n",
    "        mel = whisper.log_mel_spectrogram(chunk).to(model.device)\n",
    "\n",
    "        # Detect the spoken language\n",
    "        _, probs = model.detect_language(mel)\n",
    "        print(f\"Chunk {i + 1}: Detected language: {max(probs, key=probs.get)}\")\n",
    "\n",
    "        # Decode the chunk\n",
    "        options = whisper.DecodingOptions()\n",
    "        result = whisper.decode(model, mel, options)\n",
    "\n",
    "        # Append the transcription\n",
    "        full_transcription += result.text + \" \"\n",
    "        print(f\"Chunk {i + 1} transcription: {result.text}\")\n",
    "\n",
    "    # Return the full transcription\n",
    "    return full_transcription"
   ]
  },
  {
   "cell_type": "code",
   "execution_count": null,
   "metadata": {},
   "outputs": [
    {
     "name": "stdout",
     "output_type": "stream",
     "text": [
      "* Running on local URL:  http://127.0.0.1:7866\n",
      "\n",
      "To create a public link, set `share=True` in `launch()`.\n"
     ]
    },
    {
     "data": {
      "text/html": [
       "<div><iframe src=\"http://127.0.0.1:7866/\" width=\"100%\" height=\"500\" allow=\"autoplay; camera; microphone; clipboard-read; clipboard-write;\" frameborder=\"0\" allowfullscreen></iframe></div>"
      ],
      "text/plain": [
       "<IPython.core.display.HTML object>"
      ]
     },
     "metadata": {},
     "output_type": "display_data"
    },
    {
     "data": {
      "text/plain": []
     },
     "execution_count": 28,
     "metadata": {},
     "output_type": "execute_result"
    },
    {
     "ename": "",
     "evalue": "",
     "output_type": "error",
     "traceback": [
      "\u001b[1;31mThe Kernel crashed while executing code in the current cell or a previous cell. \n",
      "\u001b[1;31mPlease review the code in the cell(s) to identify a possible cause of the failure. \n",
      "\u001b[1;31mClick <a href='https://aka.ms/vscodeJupyterKernelCrash'>here</a> for more info. \n",
      "\u001b[1;31mView Jupyter <a href='command:jupyter.viewOutput'>log</a> for further details."
     ]
    }
   ],
   "source": [
    "interface = gr.Interface(\n",
    "    title=\"VOCAL-SENSE\",\n",
    "    # subtitle = \"Decoding Speech, Summarizing Thoughts, and Detecting Emotions\",\n",
    "    fn=transcribe,\n",
    "    inputs=[\n",
    "        gr.Audio(sources=[\"microphone\", \"upload\"], type=\"filepath\", label=\"Record or Upload Audio\")\n",
    "    ],\n",
    "    outputs=[\n",
    "        gr.Textbox(label=\"Transcription\")\n",
    "    ],\n",
    "    live=True\n",
    ")\n",
    "\n",
    "interface.launch()\n"
   ]
  }
 ],
 "metadata": {
  "kernelspec": {
   "display_name": "Python 3",
   "language": "python",
   "name": "python3"
  },
  "language_info": {
   "codemirror_mode": {
    "name": "ipython",
    "version": 3
   },
   "file_extension": ".py",
   "mimetype": "text/x-python",
   "name": "python",
   "nbconvert_exporter": "python",
   "pygments_lexer": "ipython3",
   "version": "3.12.3"
  }
 },
 "nbformat": 4,
 "nbformat_minor": 2
}
